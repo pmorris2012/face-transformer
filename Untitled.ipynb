{
 "cells": [
  {
   "cell_type": "code",
   "execution_count": 1,
   "id": "733cc969-3914-49bf-855b-57712572f4f7",
   "metadata": {},
   "outputs": [
    {
     "name": "stdout",
     "output_type": "stream",
     "text": [
      "Requirement already satisfied: ipympl in /opt/conda/lib/python3.9/site-packages (0.7.0)\n",
      "Requirement already satisfied: ipywidgets>=7.6.0 in /opt/conda/lib/python3.9/site-packages (from ipympl) (7.6.3)\n",
      "Requirement already satisfied: matplotlib>=2.0.0 in /opt/conda/lib/python3.9/site-packages (from ipympl) (3.4.2)\n",
      "Requirement already satisfied: ipykernel>=4.7 in /opt/conda/lib/python3.9/site-packages (from ipympl) (5.5.5)\n",
      "Requirement already satisfied: ipython>=5.0.0 in /opt/conda/lib/python3.9/site-packages (from ipykernel>=4.7->ipympl) (7.24.0)\n",
      "Requirement already satisfied: tornado>=4.2 in /opt/conda/lib/python3.9/site-packages (from ipykernel>=4.7->ipympl) (6.1)\n",
      "Requirement already satisfied: jupyter-client in /opt/conda/lib/python3.9/site-packages (from ipykernel>=4.7->ipympl) (6.1.12)\n",
      "Requirement already satisfied: traitlets>=4.1.0 in /opt/conda/lib/python3.9/site-packages (from ipykernel>=4.7->ipympl) (5.0.5)\n",
      "Requirement already satisfied: decorator in /opt/conda/lib/python3.9/site-packages (from ipython>=5.0.0->ipykernel>=4.7->ipympl) (5.0.9)\n",
      "Requirement already satisfied: pickleshare in /opt/conda/lib/python3.9/site-packages (from ipython>=5.0.0->ipykernel>=4.7->ipympl) (0.7.5)\n",
      "Requirement already satisfied: pexpect>4.3 in /opt/conda/lib/python3.9/site-packages (from ipython>=5.0.0->ipykernel>=4.7->ipympl) (4.8.0)\n",
      "Requirement already satisfied: setuptools>=18.5 in /opt/conda/lib/python3.9/site-packages (from ipython>=5.0.0->ipykernel>=4.7->ipympl) (49.6.0.post20210108)\n",
      "Requirement already satisfied: pygments in /opt/conda/lib/python3.9/site-packages (from ipython>=5.0.0->ipykernel>=4.7->ipympl) (2.9.0)\n",
      "Requirement already satisfied: backcall in /opt/conda/lib/python3.9/site-packages (from ipython>=5.0.0->ipykernel>=4.7->ipympl) (0.2.0)\n",
      "Requirement already satisfied: jedi>=0.16 in /opt/conda/lib/python3.9/site-packages (from ipython>=5.0.0->ipykernel>=4.7->ipympl) (0.18.0)\n",
      "Requirement already satisfied: matplotlib-inline in /opt/conda/lib/python3.9/site-packages (from ipython>=5.0.0->ipykernel>=4.7->ipympl) (0.1.2)\n",
      "Requirement already satisfied: prompt-toolkit!=3.0.0,!=3.0.1,<3.1.0,>=2.0.0 in /opt/conda/lib/python3.9/site-packages (from ipython>=5.0.0->ipykernel>=4.7->ipympl) (3.0.18)\n",
      "Requirement already satisfied: nbformat>=4.2.0 in /opt/conda/lib/python3.9/site-packages (from ipywidgets>=7.6.0->ipympl) (5.1.3)\n",
      "Requirement already satisfied: jupyterlab-widgets>=1.0.0 in /opt/conda/lib/python3.9/site-packages (from ipywidgets>=7.6.0->ipympl) (1.0.0)\n",
      "Requirement already satisfied: widgetsnbextension~=3.5.0 in /opt/conda/lib/python3.9/site-packages (from ipywidgets>=7.6.0->ipympl) (3.5.1)\n",
      "Requirement already satisfied: parso<0.9.0,>=0.8.0 in /opt/conda/lib/python3.9/site-packages (from jedi>=0.16->ipython>=5.0.0->ipykernel>=4.7->ipympl) (0.8.2)\n",
      "Requirement already satisfied: kiwisolver>=1.0.1 in /opt/conda/lib/python3.9/site-packages (from matplotlib>=2.0.0->ipympl) (1.3.1)\n",
      "Requirement already satisfied: pillow>=6.2.0 in /opt/conda/lib/python3.9/site-packages (from matplotlib>=2.0.0->ipympl) (8.2.0)\n",
      "Requirement already satisfied: numpy>=1.16 in /opt/conda/lib/python3.9/site-packages (from matplotlib>=2.0.0->ipympl) (1.20.3)\n",
      "Requirement already satisfied: python-dateutil>=2.7 in /opt/conda/lib/python3.9/site-packages (from matplotlib>=2.0.0->ipympl) (2.8.1)\n",
      "Requirement already satisfied: pyparsing>=2.2.1 in /opt/conda/lib/python3.9/site-packages (from matplotlib>=2.0.0->ipympl) (2.4.7)\n",
      "Requirement already satisfied: cycler>=0.10 in /opt/conda/lib/python3.9/site-packages (from matplotlib>=2.0.0->ipympl) (0.10.0)\n",
      "Requirement already satisfied: six in /opt/conda/lib/python3.9/site-packages (from cycler>=0.10->matplotlib>=2.0.0->ipympl) (1.16.0)\n",
      "Requirement already satisfied: ipython-genutils in /opt/conda/lib/python3.9/site-packages (from nbformat>=4.2.0->ipywidgets>=7.6.0->ipympl) (0.2.0)\n",
      "Requirement already satisfied: jsonschema!=2.5.0,>=2.4 in /opt/conda/lib/python3.9/site-packages (from nbformat>=4.2.0->ipywidgets>=7.6.0->ipympl) (3.2.0)\n",
      "Requirement already satisfied: jupyter-core in /opt/conda/lib/python3.9/site-packages (from nbformat>=4.2.0->ipywidgets>=7.6.0->ipympl) (4.7.1)\n",
      "Requirement already satisfied: pyrsistent>=0.14.0 in /opt/conda/lib/python3.9/site-packages (from jsonschema!=2.5.0,>=2.4->nbformat>=4.2.0->ipywidgets>=7.6.0->ipympl) (0.17.3)\n",
      "Requirement already satisfied: attrs>=17.4.0 in /opt/conda/lib/python3.9/site-packages (from jsonschema!=2.5.0,>=2.4->nbformat>=4.2.0->ipywidgets>=7.6.0->ipympl) (21.2.0)\n",
      "Requirement already satisfied: ptyprocess>=0.5 in /opt/conda/lib/python3.9/site-packages (from pexpect>4.3->ipython>=5.0.0->ipykernel>=4.7->ipympl) (0.7.0)\n",
      "Requirement already satisfied: wcwidth in /opt/conda/lib/python3.9/site-packages (from prompt-toolkit!=3.0.0,!=3.0.1,<3.1.0,>=2.0.0->ipython>=5.0.0->ipykernel>=4.7->ipympl) (0.2.5)\n",
      "Requirement already satisfied: notebook>=4.4.1 in /opt/conda/lib/python3.9/site-packages (from widgetsnbextension~=3.5.0->ipywidgets>=7.6.0->ipympl) (6.4.0)\n",
      "Requirement already satisfied: Send2Trash>=1.5.0 in /opt/conda/lib/python3.9/site-packages (from notebook>=4.4.1->widgetsnbextension~=3.5.0->ipywidgets>=7.6.0->ipympl) (1.5.0)\n",
      "Requirement already satisfied: argon2-cffi in /opt/conda/lib/python3.9/site-packages (from notebook>=4.4.1->widgetsnbextension~=3.5.0->ipywidgets>=7.6.0->ipympl) (20.1.0)\n",
      "Requirement already satisfied: pyzmq>=17 in /opt/conda/lib/python3.9/site-packages (from notebook>=4.4.1->widgetsnbextension~=3.5.0->ipywidgets>=7.6.0->ipympl) (22.1.0)\n",
      "Requirement already satisfied: nbconvert in /opt/conda/lib/python3.9/site-packages (from notebook>=4.4.1->widgetsnbextension~=3.5.0->ipywidgets>=7.6.0->ipympl) (6.0.7)\n",
      "Requirement already satisfied: terminado>=0.8.3 in /opt/conda/lib/python3.9/site-packages (from notebook>=4.4.1->widgetsnbextension~=3.5.0->ipywidgets>=7.6.0->ipympl) (0.10.0)\n",
      "Requirement already satisfied: jinja2 in /opt/conda/lib/python3.9/site-packages (from notebook>=4.4.1->widgetsnbextension~=3.5.0->ipywidgets>=7.6.0->ipympl) (3.0.1)\n",
      "Requirement already satisfied: prometheus-client in /opt/conda/lib/python3.9/site-packages (from notebook>=4.4.1->widgetsnbextension~=3.5.0->ipywidgets>=7.6.0->ipympl) (0.10.1)\n",
      "Requirement already satisfied: cffi>=1.0.0 in /opt/conda/lib/python3.9/site-packages (from argon2-cffi->notebook>=4.4.1->widgetsnbextension~=3.5.0->ipywidgets>=7.6.0->ipympl) (1.14.5)\n",
      "Requirement already satisfied: pycparser in /opt/conda/lib/python3.9/site-packages (from cffi>=1.0.0->argon2-cffi->notebook>=4.4.1->widgetsnbextension~=3.5.0->ipywidgets>=7.6.0->ipympl) (2.20)\n",
      "Requirement already satisfied: MarkupSafe>=2.0 in /opt/conda/lib/python3.9/site-packages (from jinja2->notebook>=4.4.1->widgetsnbextension~=3.5.0->ipywidgets>=7.6.0->ipympl) (2.0.1)\n",
      "Requirement already satisfied: entrypoints>=0.2.2 in /opt/conda/lib/python3.9/site-packages (from nbconvert->notebook>=4.4.1->widgetsnbextension~=3.5.0->ipywidgets>=7.6.0->ipympl) (0.3)\n",
      "Requirement already satisfied: testpath in /opt/conda/lib/python3.9/site-packages (from nbconvert->notebook>=4.4.1->widgetsnbextension~=3.5.0->ipywidgets>=7.6.0->ipympl) (0.5.0)\n",
      "Requirement already satisfied: mistune<2,>=0.8.1 in /opt/conda/lib/python3.9/site-packages (from nbconvert->notebook>=4.4.1->widgetsnbextension~=3.5.0->ipywidgets>=7.6.0->ipympl) (0.8.4)\n",
      "Requirement already satisfied: bleach in /opt/conda/lib/python3.9/site-packages (from nbconvert->notebook>=4.4.1->widgetsnbextension~=3.5.0->ipywidgets>=7.6.0->ipympl) (3.3.0)\n",
      "Requirement already satisfied: nbclient<0.6.0,>=0.5.0 in /opt/conda/lib/python3.9/site-packages (from nbconvert->notebook>=4.4.1->widgetsnbextension~=3.5.0->ipywidgets>=7.6.0->ipympl) (0.5.3)\n",
      "Requirement already satisfied: defusedxml in /opt/conda/lib/python3.9/site-packages (from nbconvert->notebook>=4.4.1->widgetsnbextension~=3.5.0->ipywidgets>=7.6.0->ipympl) (0.7.1)\n",
      "Requirement already satisfied: pandocfilters>=1.4.1 in /opt/conda/lib/python3.9/site-packages (from nbconvert->notebook>=4.4.1->widgetsnbextension~=3.5.0->ipywidgets>=7.6.0->ipympl) (1.4.2)\n",
      "Requirement already satisfied: jupyterlab-pygments in /opt/conda/lib/python3.9/site-packages (from nbconvert->notebook>=4.4.1->widgetsnbextension~=3.5.0->ipywidgets>=7.6.0->ipympl) (0.1.2)\n",
      "Requirement already satisfied: async-generator in /opt/conda/lib/python3.9/site-packages (from nbclient<0.6.0,>=0.5.0->nbconvert->notebook>=4.4.1->widgetsnbextension~=3.5.0->ipywidgets>=7.6.0->ipympl) (1.10)\n",
      "Requirement already satisfied: nest-asyncio in /opt/conda/lib/python3.9/site-packages (from nbclient<0.6.0,>=0.5.0->nbconvert->notebook>=4.4.1->widgetsnbextension~=3.5.0->ipywidgets>=7.6.0->ipympl) (1.5.1)\n",
      "Requirement already satisfied: packaging in /opt/conda/lib/python3.9/site-packages (from bleach->nbconvert->notebook>=4.4.1->widgetsnbextension~=3.5.0->ipywidgets>=7.6.0->ipympl) (20.9)\n",
      "Requirement already satisfied: webencodings in /opt/conda/lib/python3.9/site-packages (from bleach->nbconvert->notebook>=4.4.1->widgetsnbextension~=3.5.0->ipywidgets>=7.6.0->ipympl) (0.5.1)\n",
      "Requirement already satisfied: nodejs in /opt/conda/lib/python3.9/site-packages (0.1.1)\n",
      "Requirement already satisfied: optional-django==0.1.0 in /opt/conda/lib/python3.9/site-packages (from nodejs) (0.1.0)\n",
      "Building jupyterlab assets (production, minimized)\n",
      "Building jupyterlab assets (production, minimized)\n"
     ]
    }
   ],
   "source": [
    "!pip install ipympl\n",
    "!pip install nodejs\n",
    "!jupyter labextension install @jupyter-widgets/jupyterlab-manager\n",
    "!jupyter labextension install jupyter-matplotlib"
   ]
  },
  {
   "cell_type": "code",
   "execution_count": 2,
   "id": "839477cb-2023-4b0c-ae36-5ff99fe4429e",
   "metadata": {},
   "outputs": [],
   "source": [
    "import numpy as np\n",
    "\n",
    "import matplotlib.pyplot as plt\n",
    "from matplotlib.animation import FuncAnimation\n",
    "\n",
    "from scipy.stats import zscore\n",
    "from scipy.spatial.distance import pdist, squareform\n",
    "\n",
    "from pathlib import Path"
   ]
  },
  {
   "cell_type": "code",
   "execution_count": 3,
   "id": "c496104d-04d3-4556-9f4b-a3ef60f10620",
   "metadata": {},
   "outputs": [],
   "source": [
    "base_dir = Path(\"/media/quadserver2/data1/paul/face/AVSpeech/\")\n",
    "clips_path = Path(base_dir, \"filter_clips.txt\")\n",
    "data_dir = Path(base_dir, \"FaceKeypointsCPU2/\")"
   ]
  },
  {
   "cell_type": "code",
   "execution_count": 4,
   "id": "bb085923-23c5-4bda-b5e1-c5b8b7c2a60e",
   "metadata": {},
   "outputs": [],
   "source": [
    "clips = clips_path.open().read().splitlines()\n",
    "\n",
    "def get_frames(data_dir, clip_name):\n",
    "    clip_path = Path(data_dir, clip_name)\n",
    "    arrays = []\n",
    "    max_frame = 0\n",
    "    for file in clip_path.glob('*.npy'):\n",
    "        frame_index = int(file.stem)\n",
    "        max_frame = max(max_frame, frame_index + 1)\n",
    "        arrays.append((frame_index, np.load(file)))\n",
    "    frames = np.zeros((max_frame, *arrays[0][1].shape))\n",
    "    for (frame_index, array) in arrays:\n",
    "        frames[frame_index] = array\n",
    "    return frames"
   ]
  },
  {
   "cell_type": "code",
   "execution_count": 4,
   "id": "d67e556e-44ed-4857-a848-f07c2e2738c4",
   "metadata": {},
   "outputs": [],
   "source": [
    "keypoint_indexes = {\n",
    "    \"jaw\": np.arange(0, 17),\n",
    "    \"eyebrow_right\": np.arange(17, 22),\n",
    "    \"eyebrow_left\": np.arange(22, 27),\n",
    "    \"nose\": np.arange(27, 36),\n",
    "    \"eye_right\": np.arange(36, 42),\n",
    "    \"eye_left\": np.arange(42, 48),\n",
    "    \"mouth\": np.arange(48, 68)\n",
    "}"
   ]
  },
  {
   "cell_type": "code",
   "execution_count": 5,
   "id": "33a6e8c2-9dfa-41c8-be70-300329a776a9",
   "metadata": {},
   "outputs": [
    {
     "data": {
      "image/png": "[encoded data removed]",
      "text/plain": [
       "<Figure size 432x288 with 1 Axes>"
      ]
     },
     "metadata": {
      "needs_background": "light"
     },
     "output_type": "display_data"
    }
   ],
   "source": [
    "clip_index = 560000\n",
    "frame_index = 50\n",
    "\n",
    "frames = get_frames(data_dir, clips[clip_index])\n",
    "frame = frames[frame_index]\n",
    "plt.scatter(frame[:,0], -frame[:,1], c=np.linspace(0, 1, frame.shape[0]), cmap='gist_rainbow')\n",
    "for (key, indexes) in keypoint_indexes.items():\n",
    "    plt.plot(frame[indexes,0], -frame[indexes,1])\n",
    "plt.show()"
   ]
  },
  {
   "cell_type": "code",
   "execution_count": 5,
   "id": "1bb2c516-ec07-4981-829d-35e6fa73e693",
   "metadata": {},
   "outputs": [
    {
     "data": {
      "application/vnd.jupyter.widget-view+json": {
       "model_id": "cd85c7cb1dc3460b957a428faf0560fd",
       "version_major": 2,
       "version_minor": 0
      },
      "text/plain": [
       "Canvas(toolbar=Toolbar(toolitems=[('Home', 'Reset original view', 'home', 'home'), ('Back', 'Back to previous …"
      ]
     },
     "metadata": {},
     "output_type": "display_data"
    }
   ],
   "source": [
    "%matplotlib widget\n",
    "\n",
    "lim = 4\n",
    "clip_index = 75\n",
    "draw_first_frame = True\n",
    "\n",
    "\n",
    "frames = get_frames(data_dir, clips[clip_index])\n",
    "\n",
    "fig, ax = plt.subplots()\n",
    "\n",
    "norm = zscore(frames[0])\n",
    "plot = ax.scatter(norm[:,0], norm[:,1], s=5, c=np.linspace(0, 1, 68), cmap='gist_rainbow')\n",
    "\n",
    "if draw_first_frame:\n",
    "    for (key, indexes) in keypoint_indexes.items():\n",
    "        plt.plot(norm[indexes,0], norm[indexes,1])\n",
    "title = ax.set_title(F\"Frame {1}\")\n",
    "\n",
    "ax.set_xlim(-lim, lim)\n",
    "ax.set_ylim(lim, -lim)\n",
    "\n",
    "def animate(frame_index):\n",
    "    norm = zscore(frames[frame_index], axis=0)\n",
    "    plot.set_offsets(norm)\n",
    "    title.set_text(F\"Frame {frame_index + 1}\")\n",
    "    \n",
    "    return (plot, title)\n",
    "\n",
    "anim = FuncAnimation(fig, animate, frames=frames.shape[0], interval=1000/10)\n",
    "plt.show()"
   ]
  },
  {
   "cell_type": "code",
   "execution_count": 6,
   "id": "313ae9e3-de0a-42a7-8386-916dffdf864b",
   "metadata": {},
   "outputs": [
    {
     "data": {
      "text/plain": [
       "'xmr/yk5KkKDHzCg/yk5KkKDHzCg_5/0'"
      ]
     },
     "execution_count": 6,
     "metadata": {},
     "output_type": "execute_result"
    }
   ],
   "source": [
    "clips[75]"
   ]
  },
  {
   "cell_type": "code",
   "execution_count": 5,
   "id": "66f61e26-bc4c-491f-9e12-75a4b0325d6e",
   "metadata": {},
   "outputs": [
    {
     "data": {
      "application/vnd.jupyter.widget-view+json": {
       "model_id": "bcb0c981355d4b2db86ef69a05f47760",
       "version_major": 2,
       "version_minor": 0
      },
      "text/plain": [
       "Canvas(toolbar=Toolbar(toolitems=[('Home', 'Reset original view', 'home', 'home'), ('Back', 'Back to previous …"
      ]
     },
     "metadata": {},
     "output_type": "display_data"
    }
   ],
   "source": [
    "%matplotlib widget\n",
    "\n",
    "clip_index = 250000\n",
    "\n",
    "\n",
    "frames = get_frames(data_dir, clips[clip_index])\n",
    "\n",
    "fig, ax = plt.subplots()\n",
    "\n",
    "norm = frames[0]\n",
    "plot = ax.scatter(norm[:,0], norm[:,1], s=5)\n",
    "title = ax.set_title(F\"Frame {1}\")\n",
    "\n",
    "ax.set_xlim(0, 1400)\n",
    "ax.set_ylim(1000, 0)\n",
    "\n",
    "def animate(frame_index):\n",
    "    norm = frames[frame_index]\n",
    "    plot.set_offsets(norm)\n",
    "    title.set_text(F\"Frame {frame_index + 1}\")\n",
    "    \n",
    "    return (plot, title)\n",
    "\n",
    "anim = FuncAnimation(fig, animate, frames=frames.shape[0], interval=1000/10)\n",
    "plt.show()"
   ]
  },
  {
   "cell_type": "code",
   "execution_count": 10,
   "id": "671b260a-8027-4c30-81e9-fbf278c472ca",
   "metadata": {},
   "outputs": [],
   "source": []
  },
  {
   "cell_type": "code",
   "execution_count": null,
   "id": "a3a6519a-5e1b-4b95-ba38-e64bd412caaa",
   "metadata": {},
   "outputs": [],
   "source": [
    "%matplotlib widget\n",
    "\n",
    "fig, ax = plt.subplots()\n",
    "\n",
    "image = ax.imshow(squareform(pdist(zscore(frames[0]))))\n",
    "title = ax.set_title(F\"Frame {1}\")\n",
    "ax.set_xlim(0, 68)\n",
    "ax.set_ylim(0, 68)\n",
    "\n",
    "def animate(frame_index):\n",
    "    image.set_data(squareform(pdist(zscore(frames[frame_index]))))\n",
    "    title.set_text(F\"Frame {frame_index + 1}\")\n",
    "    return (image,)\n",
    "\n",
    "anim = FuncAnimation(fig, animate, frames=frames.shape[0], blit=True, interval=200)\n",
    "plt.show()"
   ]
  },
  {
   "cell_type": "code",
   "execution_count": null,
   "id": "65af5ec9-6f04-42ea-b688-3ffa1b410f72",
   "metadata": {},
   "outputs": [],
   "source": [
    "for i in range(frames.shape[0]):\n",
    "    norm = zscore(frames[i])\n",
    "    plt.scatter(norm[:,0], norm[:,1], s=5)\n",
    "    plt.show()"
   ]
  },
  {
   "cell_type": "code",
   "execution_count": null,
   "id": "f7fd1edd-b774-4d47-a43c-90faf12d0a5f",
   "metadata": {},
   "outputs": [],
   "source": []
  },
  {
   "cell_type": "code",
   "execution_count": null,
   "id": "41d368c4-3c7a-4dcc-ba01-8ba97d76cfd0",
   "metadata": {},
   "outputs": [],
   "source": [
    "# Meeting Notes 09/24/21:\n",
    "\n",
    "- how keypoint-based metrics are represented in the pretrained model\n",
    "- relative effect of distances/keypoints in a quadrant or region on the whole embedding\n",
    "\n",
    "- total variation in distances connected to eyebrow vs mouth points\n",
    "- variation in individual stats eyebrow vs mouth\n",
    "- choose eyebrow vs mouth\n",
    "\n",
    "- train (eyebrow, mouth)"
   ]
  },
  {
   "cell_type": "code",
   "execution_count": null,
   "id": "a2e716ed-281f-4073-b970-8739d43901ae",
   "metadata": {},
   "outputs": [],
   "source": []
  },
  {
   "cell_type": "code",
   "execution_count": 5,
   "id": "f86d445d-f0bd-46bb-9f96-5ab16838ca2c",
   "metadata": {},
   "outputs": [
    {
     "data": {
      "text/plain": [
       "1017694"
      ]
     },
     "execution_count": 5,
     "metadata": {},
     "output_type": "execute_result"
    }
   ],
   "source": [
    "#make subset for analysis\n",
    "\n",
    "def count_frames(data_dir, clip_name):\n",
    "    clip_path = Path(data_dir, clip_name)\n",
    "    max_frame = 0\n",
    "    return len(list(clip_path.glob('*.npy'):\n",
    "        frame_index = int(file.stem)\n",
    "        max_frame = max(max_frame, frame_index + 1)\n",
    "        arrays.append((frame_index, np.load(file)))\n",
    "    frames = np.zeros((max_frame, *arrays[0][1].shape))\n",
    "    for (frame_index, array) in arrays:\n",
    "        frames[frame_index] = array\n",
    "    return frames\n",
    "\n",
    "for clip in clips:\n",
    "    "
   ]
  },
  {
   "cell_type": "code",
   "execution_count": null,
   "id": "eb181261-2fc3-41f3-a587-54af9ebef95d",
   "metadata": {},
   "outputs": [],
   "source": []
  }
 ],
 "metadata": {
  "kernelspec": {
   "display_name": "Python 3",
   "language": "python",
   "name": "python3"
  },
  "language_info": {
   "codemirror_mode": {
    "name": "ipython",
    "version": 3
   },
   "file_extension": ".py",
   "mimetype": "text/x-python",
   "name": "python",
   "nbconvert_exporter": "python",
   "pygments_lexer": "ipython3",
   "version": "3.9.2"
  }
 },
 "nbformat": 4,
 "nbformat_minor": 5
}
